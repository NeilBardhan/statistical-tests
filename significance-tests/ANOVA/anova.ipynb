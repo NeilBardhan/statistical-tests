{
 "cells": [
  {
   "cell_type": "markdown",
   "metadata": {},
   "source": [
    "# ANOVA - Analysis of Variance"
   ]
  },
  {
   "cell_type": "markdown",
   "metadata": {},
   "source": [
    "Analysis of Variance (ANOVA) is a statistical method used to **test differences between two or more means**. The name is appropriate because **inferences about means are made by analyzing variance**. We are testing groups to see if there’s a difference between them. Here are some examples of when you might want to test different groups:\n",
    "\n",
    "  - A manufacturer has two different processes to make plastic water bottles. They want to know if one process is better than the other.\n",
    "  - Students from multiple (2+) different colleges take the same standardized test. You want to see if one college outperforms the other."
   ]
  },
  {
   "cell_type": "markdown",
   "metadata": {},
   "source": [
    "There are two types of ANOVA tests, depending on the number of **independent variables** (IVs) being tested.\n",
    "  - **One-Way ANOVA** - One-way tests against one independent variable with 2 levels/groups. For example: Type of Device (Android/iOS)\n",
    "  - **Two-way ANOVA** - Two-way tests against two independent variables with multiple levels. For example: Type of Device, Day of Week.\n",
    "  \n",
    "**Groups/Levels** are simply discrete categories within independent variables. These categories can be used to split the study participants into said number of groups or levels. For example, if students from multiple (2+) different colleges take the same standardized test, we can split the populations further by bringing gender into the mix and testing whether there are any meaningful differences in the means of the scores of different genders."
   ]
  },
  {
   "cell_type": "markdown",
   "metadata": {},
   "source": [
    "## One-Way ANOVA"
   ]
  },
  {
   "cell_type": "markdown",
   "metadata": {},
   "source": [
    "The one-way analysis of variance (ANOVA) is used to determine whether there are any statistically significant differences between the means of three or more independent (unrelated) groups. The one-way ANOVA compares the means between the groups you are interested in and determines whether any of those means are statistically significantly different from each other. We are testing the null hypothesis - \n",
    "\n",
    "$h_{0}: \\mu_{1} = \\mu_{2} = \\mu_{3} = ... = \\mu_{k}$\n",
    "\n",
    "where $\\mu$ = group mean and $k$ = number of groups. If, however, the one-way ANOVA returns a statistically significant result, we accept the alternative hypothesis $H_{A}$, which is that **there are at least two group means that are statistically significantly different from each other**. The one-way ANOVA **cannot** tell us which specific groups were statistically significantly different from each other, only that at least two groups were. To determine which specific groups differed from each other, we need to use a **post hoc test**."
   ]
  }
 ],
 "metadata": {
  "kernelspec": {
   "display_name": "Python 3",
   "language": "python",
   "name": "python3"
  },
  "language_info": {
   "codemirror_mode": {
    "name": "ipython",
    "version": 3
   },
   "file_extension": ".py",
   "mimetype": "text/x-python",
   "name": "python",
   "nbconvert_exporter": "python",
   "pygments_lexer": "ipython3",
   "version": "3.7.4"
  }
 },
 "nbformat": 4,
 "nbformat_minor": 4
}

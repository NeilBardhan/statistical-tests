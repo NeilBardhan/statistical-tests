{
 "cells": [
  {
   "cell_type": "markdown",
   "metadata": {},
   "source": [
    "# T Tests on Independent Samples\n",
    "\n",
    "The **T Test** (also called **Student’s T Test**) compares two averages (means | $\\mu$) and tells us if they are different from each other. The t test also tells us how **significant** the differences are. In other words it lets us know if those differences could have occurred by chance.\n",
    "\n",
    "A drug company may want to test a new cancer drug to find out if it improves life expectancy. In an experiment, there’s always a control group (a group who are given a placebo). The control group may see an average increased life expectancy of 5 years, while the group taking the new drug might witness an average increase in life expectancy of 6 years. This might indicate that the drug is effective, however that could be down to unique attributes in the sample. To test the efficacy of the drug for the entire population, researchers would have to use a Student’s t test to find out if the results are statistically significant over the whole population.\n",
    "\n",
    "\n",
    "### T score\n",
    "The **T score** or **T value** is a **ratio** between the **difference between two groups** and the **difference within the two groups**.\n",
    "\n",
    "- **large** t-score $\\implies$ groups are **different**.\n",
    "- **small** t-score $\\implies$ groups are **similar**.\n",
    "    \n",
    "When we run a t test, the bigger the t value, the more likely it is that the results will be reproducable across the population. That raises the question **how big is big enough?** Every t-value has a **p-value** to go with it. A p-value is the **probability** that the results from your sample data occurred by chance. P-values range from 0% to 100%. a p value of 5% is 0.05. Low p-values are good; They indicate that our data did not occur by chance. A p-value of .01 means there is only a 1% probability that the results from an experiment happened by chance. In most cases, a p-value of 0.05 (5%) is accepted to mean that the data is valid. This threshold (0.05 or 0.1) is called the **significance level** and is denoted by $\\alpha$. $\\alpha$ can be 0.05 or 0.1.\n",
    "\n",
    "### T Test variations\n",
    "\n",
    "There are three variations of the t-test:\n",
    "\n",
    "- An **Independent samples** t-test compares the means for two groups.\n",
    "- A **Paired sample** t-test compares means from the same group at different times (say, one year apart).\n",
    "- A **One sample** t-test compares the mean of a single group against a known mean.\n",
    "\n",
    "## Independent Samples T Test\n",
    "\n",
    "The **Independent samples** t-test helps us to compare the means of two sets of data. We could run a t test to see if the average math test scores of males and females are different and the Independent Samples T Test helps answer whether these differences could have occurred by random chance."
   ]
  },
  {
   "cell_type": "markdown",
   "metadata": {},
   "source": [
    "### Loading libraries and dataset"
   ]
  },
  {
   "cell_type": "code",
   "execution_count": 152,
   "metadata": {
    "ExecuteTime": {
     "end_time": "2019-04-23T15:51:42.687000Z",
     "start_time": "2019-04-23T15:51:42.680000Z"
    },
    "collapsed": true
   },
   "outputs": [],
   "source": [
    "import math\n",
    "import csv\n",
    "import time\n",
    "import seaborn as sn\n",
    "from scipy import stats\n",
    "import pandas as pd\n",
    "from itertools import combinations\n",
    "from prettytable import PrettyTable\n",
    "import matplotlib.pyplot as plt\n",
    "import numpy as np"
   ]
  },
  {
   "cell_type": "code",
   "execution_count": 153,
   "metadata": {
    "ExecuteTime": {
     "end_time": "2019-04-23T15:51:42.722000Z",
     "start_time": "2019-04-23T15:51:42.690000Z"
    }
   },
   "outputs": [
    {
     "name": "stdout",
     "output_type": "stream",
     "text": [
      "+--------------+--------------+--------------+--------------+--------------+\n",
      "| shiftClass31 | shiftClass32 | shiftClass22 | shiftClass23 | shiftClass21 |\n",
      "+--------------+--------------+--------------+--------------+--------------+\n",
      "|   109.126    |   487.797    |   653.745    |   590.035    |   524.996    |\n",
      "|   446.973    |   697.996    |   346.847    |   506.485    |   587.324    |\n",
      "|    79.898    |   511.413    |   516.717    |   375.336    |   630.496    |\n",
      "|   542.809    |   517.957    |   332.523    |   586.754    |   539.347    |\n",
      "|   531.114    |   379.899    |   532.259    |   580.948    |   500.332    |\n",
      "|   597.148    |   601.309    |   541.533    |   539.804    |   283.492    |\n",
      "|   180.683    |   644.818    |    600.35    |   554.802    |   372.994    |\n",
      "|   680.899    |   541.401    |   578.415    |   474.639    |   552.625    |\n",
      "|   124.991    |   585.346    |    434.3     |   406.568    |   534.994    |\n",
      "|   633.796    |   542.259    |   532.291    |   398.284    |   499.706    |\n",
      "|   173.268    |   269.376    |    493.58    |   608.126    |    550.0     |\n",
      "|   649.282    |   679.852    |    562.41    |   593.674    |    550.54    |\n",
      "|    45.155    |   453.257    |   631.248    |   597.101    |    389.7     |\n",
      "|   562.619    |   554.473    |   492.276    |   572.826    |   525.348    |\n",
      "|   555.172    |   557.697    |   591.453    |    563.75    |   522.163    |\n",
      "|     nan      |   615.643    |   658.276    |   623.326    |   500.198    |\n",
      "|     nan      |   623.679    |   523.295    |   552.906    |   531.916    |\n",
      "|     nan      |     nan      |   366.575    |     nan      |   603.464    |\n",
      "|     nan      |     nan      |   659.445    |     nan      |   633.839    |\n",
      "|     nan      |     nan      |   570.488    |     nan      |   611.398    |\n",
      "|     nan      |     nan      |   625.534    |     nan      |    609.48    |\n",
      "|     nan      |     nan      |   586.738    |     nan      |   560.425    |\n",
      "|     nan      |     nan      |   528.071    |     nan      |   594.814    |\n",
      "|     nan      |     nan      |   402.064    |     nan      |   590.739    |\n",
      "|     nan      |     nan      |   489.965    |     nan      |   451.523    |\n",
      "|     nan      |     nan      |   528.342    |     nan      |   463.642    |\n",
      "|     nan      |     nan      |   435.968    |     nan      |   367.655    |\n",
      "|     nan      |     nan      |   538.215    |     nan      |   598.855    |\n",
      "|     nan      |     nan      |    388.37    |     nan      |   612.087    |\n",
      "|     nan      |     nan      |   547.872    |     nan      |   574.496    |\n",
      "|     nan      |     nan      |   499.827    |     nan      |   616.495    |\n",
      "|     nan      |     nan      |    677.75    |     nan      |   479.926    |\n",
      "|     nan      |     nan      |   589.084    |     nan      |   588.892    |\n",
      "|     nan      |     nan      |   479.402    |     nan      |     nan      |\n",
      "|     nan      |     nan      |   435.776    |     nan      |     nan      |\n",
      "|     nan      |     nan      |   206.981    |     nan      |     nan      |\n",
      "|     nan      |     nan      |   407.986    |     nan      |     nan      |\n",
      "+--------------+--------------+--------------+--------------+--------------+\n"
     ]
    }
   ],
   "source": [
    "path = \"C:\\\\Users\\\\Neil Bardhan\\\\Desktop\\\\t test\"\n",
    "start = time.time()\n",
    "csvFile = path + \"\\\\NMttest.csv\"\n",
    "with open(csvFile) as fp:\n",
    "    reader = csv.DictReader(fp)\n",
    "    data = {}\n",
    "    for row in reader:\n",
    "        for header, value in row.items():\n",
    "            try:\n",
    "                data[header].append(value)\n",
    "            except KeyError:\n",
    "                data[header] = [value]\n",
    "    for key, value in data.items():\n",
    "        data[key] = list(filter(None, data[key]))\n",
    "        data[key] = list(map(lambda x: float(x), data[key]))\n",
    "    #print(\"Time to read file ->\", round(time.time() - start, 3), \"seconds.\\n\")\n",
    "    t = PrettyTable(data.keys())\n",
    "    df = pd.DataFrame.from_dict(data, orient='index').transpose()\n",
    "    for index, row in df.iterrows():\n",
    "        t.add_row(row)\n",
    "    print(t)"
   ]
  },
  {
   "cell_type": "markdown",
   "metadata": {
    "variables": {
     "len(data.keys())": "5"
    }
   },
   "source": [
    "This is a dataset of {{len(data.keys())}} independent numeric variables. They indicate the number of cars produced by each auto manufacturing shift for different number of days. So, `shiftClass31` indicates the number of cars produced by the morning shift on line 3. Each sample has a different number of entries and that is taken into account while performing the t-test."
   ]
  },
  {
   "cell_type": "markdown",
   "metadata": {},
   "source": [
    "### Finding pairwise combinations for 2 sample t-tests"
   ]
  },
  {
   "cell_type": "markdown",
   "metadata": {
    "variables": {
     "len(data.keys())": "5"
    }
   },
   "source": [
    "The t-test can only be performed on 2 samples at a time. Since we are looking for the **significance relationship** between any pair of shifts, we will perform the t-test on each possible combination of the shifts. A combination is a selection of items from a collection, such that the order of selection does not matter. We can find a $k$-combination of a set $S$ as a subset of $k$ distinct elements of $S$. If the set has $n$ elements, the number of $k$-combinations is equal to $$\\frac{n!}{k!(n-k)!}$$\n",
    "<br>\n",
    "In the case of a t-test, that resolves to $$\\frac{p!}{2*(p-2)!}$$\n",
    "<br>\n",
    "where\n",
    "<br>\n",
    "$p =$ **Number of parameters**. In this case $p =$ {{len(data.keys())}}. Therefore, we can get the number of possible combinations as - $$\\frac{5!}{2*(5-2)!} = 10$$"
   ]
  },
  {
   "cell_type": "code",
   "execution_count": 154,
   "metadata": {
    "ExecuteTime": {
     "end_time": "2019-04-23T15:51:43.076000Z",
     "start_time": "2019-04-23T15:51:43.068000Z"
    }
   },
   "outputs": [
    {
     "name": "stdout",
     "output_type": "stream",
     "text": [
      "+--------------+--------------+\n",
      "|   sample1    |   sample2    |\n",
      "+--------------+--------------+\n",
      "| shiftClass31 | shiftClass32 |\n",
      "| shiftClass31 | shiftClass22 |\n",
      "| shiftClass31 | shiftClass23 |\n",
      "| shiftClass31 | shiftClass21 |\n",
      "| shiftClass32 | shiftClass22 |\n",
      "| shiftClass32 | shiftClass23 |\n",
      "| shiftClass32 | shiftClass21 |\n",
      "| shiftClass22 | shiftClass23 |\n",
      "| shiftClass22 | shiftClass21 |\n",
      "| shiftClass23 | shiftClass21 |\n",
      "+--------------+--------------+\n"
     ]
    }
   ],
   "source": [
    "featureCombos = (list(combinations(data.keys(),2)))\n",
    "t2 = PrettyTable(['sample1', 'sample2'])\n",
    "for elem in featureCombos:\n",
    "    t2.add_row(elem)\n",
    "print(t2)"
   ]
  },
  {
   "cell_type": "markdown",
   "metadata": {
    "variables": {
     "len(featureCombos)": "10"
    }
   },
   "source": [
    "As we can see above, we have found the {{len(featureCombos)}} different combinations between the features/parameters. We can now proceed on to performing the t-test between the 2 samples and evaluating if they have a **significance relationship**."
   ]
  },
  {
   "cell_type": "markdown",
   "metadata": {
    "variables": {
     "featureCombos[2][0]": "shiftClass31",
     "featureCombos[2][1]": "shiftClass23"
    }
   },
   "source": [
    "### Visualizing the data\n",
    "\n",
    "Let us visualize one of these pairs of data say `{{featureCombos[2][0]}}` and `{{featureCombos[2][1]}}`"
   ]
  },
  {
   "cell_type": "code",
   "execution_count": 155,
   "metadata": {
    "ExecuteTime": {
     "end_time": "2019-04-23T15:51:43.345000Z",
     "start_time": "2019-04-23T15:51:43.330000Z"
    }
   },
   "outputs": [
    {
     "data": {
      "text/html": [
       "<div>\n",
       "<style>\n",
       "    .dataframe thead tr:only-child th {\n",
       "        text-align: right;\n",
       "    }\n",
       "\n",
       "    .dataframe thead th {\n",
       "        text-align: left;\n",
       "    }\n",
       "\n",
       "    .dataframe tbody tr th {\n",
       "        vertical-align: top;\n",
       "    }\n",
       "</style>\n",
       "<table border=\"1\" class=\"dataframe\">\n",
       "  <thead>\n",
       "    <tr style=\"text-align: right;\">\n",
       "      <th></th>\n",
       "      <th>shiftClass31</th>\n",
       "      <th>shiftClass23</th>\n",
       "    </tr>\n",
       "  </thead>\n",
       "  <tbody>\n",
       "    <tr>\n",
       "      <th>0</th>\n",
       "      <td>109.126</td>\n",
       "      <td>590.035</td>\n",
       "    </tr>\n",
       "    <tr>\n",
       "      <th>1</th>\n",
       "      <td>446.973</td>\n",
       "      <td>506.485</td>\n",
       "    </tr>\n",
       "    <tr>\n",
       "      <th>2</th>\n",
       "      <td>79.898</td>\n",
       "      <td>375.336</td>\n",
       "    </tr>\n",
       "    <tr>\n",
       "      <th>3</th>\n",
       "      <td>542.809</td>\n",
       "      <td>586.754</td>\n",
       "    </tr>\n",
       "    <tr>\n",
       "      <th>4</th>\n",
       "      <td>531.114</td>\n",
       "      <td>580.948</td>\n",
       "    </tr>\n",
       "  </tbody>\n",
       "</table>\n",
       "</div>"
      ],
      "text/plain": [
       "   shiftClass31  shiftClass23\n",
       "0       109.126       590.035\n",
       "1       446.973       506.485\n",
       "2        79.898       375.336\n",
       "3       542.809       586.754\n",
       "4       531.114       580.948"
      ]
     },
     "execution_count": 155,
     "metadata": {},
     "output_type": "execute_result"
    }
   ],
   "source": [
    "sn.set_style(\"ticks\")\n",
    "df[['shiftClass31','shiftClass23']].head()"
   ]
  },
  {
   "cell_type": "code",
   "execution_count": 156,
   "metadata": {
    "ExecuteTime": {
     "end_time": "2019-04-23T15:51:43.848000Z",
     "start_time": "2019-04-23T15:51:43.349000Z"
    }
   },
   "outputs": [
    {
     "data": {
      "image/png": "[encoded data removed]",
      "text/plain": [
       "<matplotlib.figure.Figure at 0x21c1af60>"
      ]
     },
     "metadata": {},
     "output_type": "display_data"
    }
   ],
   "source": [
    "plt.figure(figsize=(16, 10), dpi= 80, facecolor='w', edgecolor='k')\n",
    "sn.distplot(df['shiftClass31'].dropna(), hist=False, rug=True)\n",
    "sn.distplot(df['shiftClass23'].dropna(), hist=False, rug=True)\n",
    "plt.show()"
   ]
  },
  {
   "cell_type": "markdown",
   "metadata": {
    "variables": {
     "featureCombos[2][0]": "shiftClass31",
     "featureCombos[2][1]": "shiftClass23"
    }
   },
   "source": [
    "This is a kernel density plot between `{{featureCombos[2][0]}}` and `{{featureCombos[2][1]}}`. Taking a look at the plot, it seems that the two variables have very different value ranges."
   ]
  },
  {
   "cell_type": "code",
   "execution_count": 157,
   "metadata": {
    "ExecuteTime": {
     "end_time": "2019-04-23T15:51:44.170000Z",
     "start_time": "2019-04-23T15:51:43.873000Z"
    }
   },
   "outputs": [
    {
     "data": {
      "image/png": "[encoded data removed]",
      "text/plain": [
       "<matplotlib.figure.Figure at 0x21c549b0>"
      ]
     },
     "metadata": {},
     "output_type": "display_data"
    }
   ],
   "source": [
    "plt.figure(figsize=(16, 10), dpi= 80, facecolor='w', edgecolor='k')\n",
    "df.boxplot(column=['shiftClass31', 'shiftClass23'])\n",
    "plt.show()"
   ]
  },
  {
   "cell_type": "code",
   "execution_count": 158,
   "metadata": {
    "ExecuteTime": {
     "end_time": "2019-04-23T15:51:44.184000Z",
     "start_time": "2019-04-23T15:51:44.174000Z"
    }
   },
   "outputs": [
    {
     "name": "stdout",
     "output_type": "stream",
     "text": [
      "    shiftClass21\n",
      "0        524.996\n",
      "1        587.324\n",
      "2        630.496\n",
      "3        539.347\n",
      "4        500.332\n",
      "5        283.492\n",
      "6        372.994\n",
      "7        552.625\n",
      "8        534.994\n",
      "9        499.706\n",
      "10       550.000\n",
      "11       550.540\n",
      "12       389.700\n",
      "13       525.348\n",
      "14       522.163\n",
      "15       500.198\n",
      "16       531.916\n",
      "17       603.464\n",
      "18       633.839\n",
      "19       611.398\n",
      "20       609.480\n",
      "21       560.425\n",
      "22       594.814\n",
      "23       590.739\n",
      "24       451.523\n",
      "25       463.642\n",
      "26       367.655\n",
      "27       598.855\n",
      "28       612.087\n",
      "29       574.496\n",
      "30       616.495\n",
      "31       479.926\n",
      "32       588.892\n",
      "33           NaN\n",
      "34           NaN\n",
      "35           NaN\n",
      "36           NaN\n"
     ]
    }
   ],
   "source": [
    "if 'shiftClass21' in df.columns:\n",
    "    print df[['shiftClass21']]"
   ]
  },
  {
   "cell_type": "markdown",
   "metadata": {},
   "source": [
    "### Calculating the T - Value"
   ]
  },
  {
   "cell_type": "markdown",
   "metadata": {
    "variables": {
     "featureCombos[2][0]": "shiftClass31",
     "featureCombos[2][1]": "shiftClass23"
    }
   },
   "source": [
    "Let us consider the numerical vectors `{{featureCombos[2][0]}}` and `{{featureCombos[2][1]}}`. We can calculate the T-Value for this pair in the following way."
   ]
  },
  {
   "cell_type": "markdown",
   "metadata": {
    "variables": {
     "featureCombos[2][0]": "shiftClass31",
     "featureCombos[2][1]": "shiftClass23"
    }
   },
   "source": [
    "#### Step 1. Sum the two groups\n",
    "\n",
    "Let - <br>$A = $ `{{featureCombos[2][1]}}`<br> $B = $ `{{featureCombos[2][0]}}`\n",
    "\n",
    "$$sum(A) = \\sum_{i=1}^{N_A} A $$\n",
    "\n",
    "$$sum(B) = \\sum_{i=1}^{N_B} B $$"
   ]
  },
  {
   "cell_type": "code",
   "execution_count": 159,
   "metadata": {
    "ExecuteTime": {
     "end_time": "2019-04-23T15:51:44.237000Z",
     "start_time": "2019-04-23T15:51:44.225000Z"
    }
   },
   "outputs": [
    {
     "name": "stdout",
     "output_type": "stream",
     "text": [
      "('sum(A)   : ', 9125.3639999999978)\n",
      "('sum(B)   : ', 5912.9329999999991)\n"
     ]
    }
   ],
   "source": [
    "A = featureCombos[2][1]\n",
    "B = featureCombos[2][0]\n",
    "sumA = sum(df[[A]].dropna().values)[0]\n",
    "sumB = sum(df[[B]].dropna().values)[0]\n",
    "print (\"sum(A)   : \", sumA)\n",
    "print (\"sum(B)   : \", sumB)"
   ]
  },
  {
   "cell_type": "markdown",
   "metadata": {},
   "source": [
    "#### Step 2. Square the sums of the two groups\n",
    "\n",
    "$$sumSq(A) = (\\sum_{i=1}^{N_A} A)^2 $$\n",
    "\n",
    "$$sumSq(B) = (\\sum_{i=1}^{N_B} B)^2 $$"
   ]
  },
  {
   "cell_type": "code",
   "execution_count": 160,
   "metadata": {
    "ExecuteTime": {
     "end_time": "2019-04-23T15:51:44.249000Z",
     "start_time": "2019-04-23T15:51:44.242000Z"
    }
   },
   "outputs": [
    {
     "name": "stdout",
     "output_type": "stream",
     "text": [
      "('sumSq(A)   : ', 83272268.132495955)\n",
      "('sumSq(B)   : ', 34962776.66248899)\n"
     ]
    }
   ],
   "source": [
    "sumAsq = sumA ** 2\n",
    "sumBsq = sumB ** 2\n",
    "print (\"sumSq(A)   : \", sumAsq)\n",
    "print (\"sumSq(B)   : \", sumBsq)"
   ]
  },
  {
   "cell_type": "markdown",
   "metadata": {},
   "source": [
    "#### Step 3. Calculate the means of the two groups\n",
    "\n",
    "$$\\mu(A) = \\dfrac {\\sum ^{N_A}_{i=1}A}{N_A} $$\n",
    "\n",
    "$$\\mu(B) = \\dfrac {\\sum ^{N_B}_{i=1}B}{N_B} $$"
   ]
  },
  {
   "cell_type": "code",
   "execution_count": 161,
   "metadata": {
    "ExecuteTime": {
     "end_time": "2019-04-23T15:51:44.371000Z",
     "start_time": "2019-04-23T15:51:44.361000Z"
    }
   },
   "outputs": [
    {
     "name": "stdout",
     "output_type": "stream",
     "text": [
      "('mean(A)   : ', 536.78611764705875)\n",
      "('mean(B)   : ', 394.19553333333329)\n"
     ]
    }
   ],
   "source": [
    "avgA = sumA/len(df[[A]].dropna().values)\n",
    "avgB = sumB/len(df[[B]].dropna().values)\n",
    "print (\"mean(A)   : \", avgA)\n",
    "print (\"mean(B)   : \", avgB)"
   ]
  },
  {
   "cell_type": "markdown",
   "metadata": {},
   "source": [
    "#### Step 4. Sum the squares of each instance\n",
    "\n",
    "$$ssq(A) = \\sum_{i=1}^{N_A} A_{i}^2 $$\n",
    "\n",
    "$$ssq(B) = \\sum_{i=1}^{N_B} B_{i}^2 $$"
   ]
  },
  {
   "cell_type": "code",
   "execution_count": 162,
   "metadata": {
    "ExecuteTime": {
     "end_time": "2019-04-23T15:51:44.496000Z",
     "start_time": "2019-04-23T15:51:44.483000Z"
    }
   },
   "outputs": [
    {
     "name": "stdout",
     "output_type": "stream",
     "text": [
      "('ssq(A)   : ', 4994709.4760279991)\n",
      "('ssq(B)   : ', 3143360.3548949994)\n"
     ]
    }
   ],
   "source": [
    "ssqA = sum(map(lambda x: x ** 2, df[[A]].dropna().values))\n",
    "ssqB = sum(map(lambda x: x ** 2, df[[B]].dropna().values))\n",
    "print (\"ssq(A)   : \", ssqA[0])\n",
    "print (\"ssq(B)   : \", ssqB[0])"
   ]
  },
  {
   "cell_type": "markdown",
   "metadata": {},
   "source": [
    "#### Step 4. Find the Degrees of Freedom\n",
    "\n",
    "$$DF = N_A + N_B - 2$$"
   ]
  },
  {
   "cell_type": "code",
   "execution_count": 163,
   "metadata": {
    "ExecuteTime": {
     "end_time": "2019-04-23T15:51:44.613000Z",
     "start_time": "2019-04-23T15:51:44.603000Z"
    }
   },
   "outputs": [
    {
     "name": "stdout",
     "output_type": "stream",
     "text": [
      "('Degrees of Freedom   : ', 30)\n"
     ]
    }
   ],
   "source": [
    "degreesFreedom = len(df[[A]].dropna().values) + len(df[[B]].dropna().values) - 2\n",
    "print(\"Degrees of Freedom   : \", degreesFreedom)"
   ]
  },
  {
   "cell_type": "markdown",
   "metadata": {},
   "source": [
    "#### Step 5. Plug in the pre-calculated values to find the T-Value\n",
    "\n",
    "$$ t = \\dfrac{\\mu_A - \\mu_B}{\\sqrt{\\dfrac{(ssq(A) - \\dfrac{sumSq(A)}{N_A}) + (ssq(B) - \\dfrac{sumSq(B)}{N_B})}{DF}.(\\dfrac{1}{N_A} + \\dfrac{1}{N_B}) }} $$"
   ]
  },
  {
   "cell_type": "code",
   "execution_count": 164,
   "metadata": {
    "ExecuteTime": {
     "end_time": "2019-04-23T15:51:44.735000Z",
     "start_time": "2019-04-23T15:51:44.720000Z"
    }
   },
   "outputs": [
    {
     "name": "stdout",
     "output_type": "stream",
     "text": [
      "('T-Value   :', 2.3126005738880679)\n"
     ]
    }
   ],
   "source": [
    "t = (avgA - avgB)/math.sqrt((((ssqA[0] - sumAsq/len(df[[A]].dropna().values))+(ssqB[0] - sumBsq/len(df[[B]].dropna().values)))/degreesFreedom)*(1.0/len(df[[A]].dropna().values)+1.0/len(df[[B]].dropna().values)))\n",
    "print(\"T-Value   :\", t)"
   ]
  },
  {
   "cell_type": "markdown",
   "metadata": {},
   "source": [
    "### Calculating the P - Value"
   ]
  },
  {
   "cell_type": "code",
   "execution_count": 165,
   "metadata": {
    "ExecuteTime": {
     "end_time": "2019-04-23T15:51:44.840000Z",
     "start_time": "2019-04-23T15:51:44.834000Z"
    }
   },
   "outputs": [
    {
     "name": "stdout",
     "output_type": "stream",
     "text": [
      "('p-Value   :', 0.027787119025330657)\n"
     ]
    }
   ],
   "source": [
    "pval = stats.t.sf(abs(t), degreesFreedom) * 2\n",
    "print(\"p-Value   :\", pval)"
   ]
  },
  {
   "cell_type": "markdown",
   "metadata": {
    "variables": {
     "degreesFreedom": "30",
     "featureCombos[2][0]": "shiftClass31",
     "featureCombos[2][1]": "shiftClass23",
     "round(pval, 4)": "0.0278",
     "round(t, 4)": "2.3126"
    }
   },
   "source": [
    "Therefore, we can see that for `{{featureCombos[2][1]}}` and `{{featureCombos[2][0]}}` - \n",
    "  * Degrees of Freedom $ = $ `{{degreesFreedom}}`\n",
    "  * t-value $ = $ `{{round(t, 4)}}`\n",
    "  * p-value $ = $ `{{round(pval, 4)}}`\n",
    "  * $\\alpha = $ `0.05`\n",
    "  \n",
    "Now, given that our calculated p-value is $ < \\alpha$, we can safely conclude that the means of `{{featureCombos[2][1]}}` and `{{featureCombos[2][0]}}` are **significantly** different from one another."
   ]
  },
  {
   "cell_type": "code",
   "execution_count": 166,
   "metadata": {
    "ExecuteTime": {
     "end_time": "2019-04-23T15:51:44.995000Z",
     "start_time": "2019-04-23T15:51:44.986000Z"
    }
   },
   "outputs": [
    {
     "name": "stdout",
     "output_type": "stream",
     "text": [
      "+--------------+--------------+---------+-----------------+---------+-------------+\n",
      "|   sample1    |   sample2    | t_value | degrees_freedom | p_value | significant |\n",
      "+--------------+--------------+---------+-----------------+---------+-------------+\n",
      "| shiftClass23 | shiftClass31 |  2.3126 |        30       |  0.0278 |      1      |\n",
      "+--------------+--------------+---------+-----------------+---------+-------------+\n"
     ]
    }
   ],
   "source": [
    "sigFlag = 0\n",
    "if(pval < 0.05):\n",
    "    sigFlag = 1\n",
    "t2 = PrettyTable(['sample1', 'sample2', 't_value', 'degrees_freedom', 'p_value', 'significant'])\n",
    "r = [featureCombos[2][1], featureCombos[2][0], round(t, 4), degreesFreedom, round(pval, 4), sigFlag]\n",
    "t2.add_row(r)\n",
    "print(t2)"
   ]
  },
  {
   "cell_type": "markdown",
   "metadata": {},
   "source": [
    "### Pairwise 2-sample t-tests"
   ]
  },
  {
   "cell_type": "markdown",
   "metadata": {},
   "source": [
    "We can now run a general script that calculates the pairwise p-values for each combination of features."
   ]
  },
  {
   "cell_type": "code",
   "execution_count": 184,
   "metadata": {
    "ExecuteTime": {
     "end_time": "2019-04-23T15:58:26.352000Z",
     "start_time": "2019-04-23T15:58:26.332000Z"
    },
    "collapsed": true
   },
   "outputs": [],
   "source": [
    "def ttest(combo, a, b):\n",
    "    sigFlag = 0\n",
    "    \n",
    "#    print(\"Combo of\", combo[0], \"and\", combo[1])\n",
    "    sumA = float(sum(a))\n",
    "    sumB = float(sum(b))\n",
    "    \n",
    "    sumAsq = sumA ** 2\n",
    "    sumBsq = sumB ** 2\n",
    "\n",
    "    avgA = sumA/len(a)\n",
    "    avgB = sumB/len(b)\n",
    "\n",
    "    ssqA = sum(map(lambda x: x ** 2, a))\n",
    "#     print(ssqA)\n",
    "    ssqB = sum(map(lambda x: x ** 2, b))\n",
    "    degreesFreedom = len(a) + len(b) - 2\n",
    "\n",
    "    t = (avgA - avgB)/math.sqrt((((ssqA - sumAsq/len(a))+(ssqB - sumBsq/len(b)))/degreesFreedom)*(1.0/len(a)+1.0/len(b)))\n",
    "#     print(\"T value ->\", t)\n",
    "\n",
    "    pval = stats.t.sf(abs(t), degreesFreedom)*2\n",
    "#     print(\"2 Tailed P value ->\", pval)\n",
    "\n",
    "    if(pval < 0.05):\n",
    "        sigFlag = 1\n",
    "    res = [combo[0], combo[1], round(t, 5), degreesFreedom, round(pval, 6), sigFlag]\n",
    "    return res"
   ]
  },
  {
   "cell_type": "code",
   "execution_count": 185,
   "metadata": {
    "ExecuteTime": {
     "end_time": "2019-04-23T15:58:28.681000Z",
     "start_time": "2019-04-23T15:58:28.652000Z"
    }
   },
   "outputs": [
    {
     "name": "stdout",
     "output_type": "stream",
     "text": [
      "+--------------+--------------+----------+-----------------+----------+-------------+\n",
      "|   sample1    |   sample2    | t_value  | degrees_freedom | p_value  | significant |\n",
      "+--------------+--------------+----------+-----------------+----------+-------------+\n",
      "| shiftClass31 | shiftClass32 | -2.33433 |        30       | 0.026464 |      1      |\n",
      "| shiftClass31 | shiftClass22 | -2.50554 |        50       | 0.015528 |      1      |\n",
      "| shiftClass31 | shiftClass23 | -2.3126  |        30       | 0.027787 |      1      |\n",
      "| shiftClass31 | shiftClass21 | -2.94617 |        46       | 0.005036 |      1      |\n",
      "| shiftClass32 | shiftClass22 | 1.03299  |        52       | 0.306388 |      0      |\n",
      "| shiftClass32 | shiftClass23 | 0.25407  |        32       | 0.801066 |      0      |\n",
      "| shiftClass32 | shiftClass21 |  0.4723  |        48       | 0.638854 |      0      |\n",
      "| shiftClass22 | shiftClass23 | -0.83465 |        52       | 0.407732 |      0      |\n",
      "| shiftClass22 | shiftClass21 | -0.82611 |        68       | 0.411633 |      0      |\n",
      "| shiftClass23 | shiftClass21 | 0.19873  |        48       | 0.843311 |      0      |\n",
      "+--------------+--------------+----------+-----------------+----------+-------------+\n"
     ]
    }
   ],
   "source": [
    "t2 = PrettyTable(['sample1', 'sample2', 't_value', 'degrees_freedom', 'p_value', 'significant'])\n",
    "for elem in featureCombos:\n",
    "    sampleA = df[elem[0]].dropna().tolist()\n",
    "    sampleB = df[elem[1]].dropna().tolist()\n",
    "    result = ttest(elem, sampleA, sampleB)\n",
    "    t2.add_row(result)\n",
    "print(t2)"
   ]
  }
 ],
 "metadata": {
  "kernelspec": {
   "display_name": "Python 2",
   "language": "python",
   "name": "python2"
  },
  "language_info": {
   "codemirror_mode": {
    "name": "ipython",
    "version": 2
   },
   "file_extension": ".py",
   "mimetype": "text/x-python",
   "name": "python",
   "nbconvert_exporter": "python",
   "pygments_lexer": "ipython2",
   "version": "2.7.13"
  },
  "toc": {
   "base_numbering": 1,
   "nav_menu": {},
   "number_sections": true,
   "sideBar": true,
   "skip_h1_title": false,
   "title_cell": "Table of Contents",
   "title_sidebar": "Contents",
   "toc_cell": false,
   "toc_position": {},
   "toc_section_display": true,
   "toc_window_display": false
  }
 },
 "nbformat": 4,
 "nbformat_minor": 2
}

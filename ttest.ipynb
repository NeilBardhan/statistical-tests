{
 "cells": [
  {
   "cell_type": "markdown",
   "metadata": {},
   "source": [
    "# T Tests on Independent Samples\n",
    "\n",
    "The **T Test** (also called **Student’s T Test**) compares two averages (means | $\\mu$) and tells us if they are different from each other. The t test also tells us how **significant** the differences are. In other words it lets us know if those differences could have occurred by chance.\n",
    "\n",
    "A drug company may want to test a new cancer drug to find out if it improves life expectancy. In an experiment, there’s always a control group (a group who are given a placebo). The control group may see an average increased life expectancy of 5 years, while the group taking the new drug might witness an average increase in life expectancy of 6 years. This might indicate that the drug is effective, however that could be down to unique attributes in the sample. To test the efficacy of the drug for the entire population, researchers would have to use a Student’s t test to find out if the results are statistically significant over the whole population.\n",
    "\n",
    "\n",
    "### T score\n",
    "The **T score** or **T value** is a **ratio** between the **difference between two groups** and the **difference within the two groups**.\n",
    "\n",
    "- **large** t-score $\\implies$ groups are **different**.\n",
    "- **small** t-score $\\implies$ groups are **similar**.\n",
    "    \n",
    "When we run a t test, the bigger the t value, the more likely it is that the results will be reproducable across the population. That raises the question **how big is big enough?** Every t-value has a **p-value** to go with it. A p-value is the **probability** that the results from your sample data occurred by chance. P-values range from 0% to 100%. a p value of 5% is 0.05. Low p-values are good; They indicate that our data did not occur by chance. A p-value of .01 means there is only a 1% probability that the results from an experiment happened by chance. In most cases, a p-value of 0.05 (5%) is accepted to mean that the data is valid. This threshold (0.05 or 0.1) is called the **significance level** and is denoted by $\\alpha$. $\\alpha$ can be 0.05 or 0.1.\n",
    "\n",
    "### T Test variations\n",
    "\n",
    "There are three variations of the t-test:\n",
    "\n",
    "- An **Independent samples** t-test compares the means for two groups.\n",
    "- A **Paired sample** t-test compares means from the same group at different times (say, one year apart).\n",
    "- A **One sample** t-test compares the mean of a single group against a known mean.\n",
    "\n",
    "## Independent Samples T Test\n",
    "\n",
    "The **Independent samples** t-test helps us to compare the means of two sets of data. We could run a t test to see if the average math test scores of males and females are different and the Independent Samples T Test helps answer whether these differences could have occurred by random chance."
   ]
  },
  {
   "cell_type": "markdown",
   "metadata": {},
   "source": [
    "### Loading libraries and dataset"
   ]
  },
  {
   "cell_type": "code",
   "execution_count": 1,
   "metadata": {
    "ExecuteTime": {
     "end_time": "2019-04-23T15:51:42.687000Z",
     "start_time": "2019-04-23T15:51:42.680000Z"
    }
   },
   "outputs": [
    {
     "name": "stderr",
     "output_type": "stream",
     "text": [
      "C:\\anaconda\\lib\\site-packages\\statsmodels\\tools\\_testing.py:19: FutureWarning: pandas.util.testing is deprecated. Use the functions in the public API at pandas.testing instead.\n",
      "  import pandas.util.testing as tm\n"
     ]
    }
   ],
   "source": [
    "import os\n",
    "import csv\n",
    "import math\n",
    "import time\n",
    "import numpy as np\n",
    "import pandas as pd\n",
    "import seaborn as sn\n",
    "from scipy import stats\n",
    "import matplotlib.pyplot as plt\n",
    "from itertools import combinations\n",
    "from prettytable import PrettyTable"
   ]
  },
  {
   "cell_type": "code",
   "execution_count": 2,
   "metadata": {
    "ExecuteTime": {
     "end_time": "2019-04-23T15:51:42.722000Z",
     "start_time": "2019-04-23T15:51:42.690000Z"
    }
   },
   "outputs": [
    {
     "name": "stdout",
     "output_type": "stream",
     "text": [
      "+--------------+--------------+--------------+--------------+--------------+\n",
      "| shiftClass21 | shiftClass22 | shiftClass23 | shiftClass31 | shiftClass32 |\n",
      "+--------------+--------------+--------------+--------------+--------------+\n",
      "|   524.996    |   653.745    |   590.035    |   109.126    |   487.797    |\n",
      "|   587.324    |   346.847    |   506.485    |   446.973    |   697.996    |\n",
      "|   630.496    |   516.717    |   375.336    |    79.898    |   511.413    |\n",
      "|   539.347    |   332.523    |   586.754    |   542.809    |   517.957    |\n",
      "|   500.332    |   532.259    |   580.948    |   531.114    |   379.899    |\n",
      "|   283.492    |   541.533    |   539.804    |   597.148    |   601.309    |\n",
      "|   372.994    |    600.35    |   554.802    |   180.683    |   644.818    |\n",
      "|   552.625    |   578.415    |   474.639    |   680.899    |   541.401    |\n",
      "|   534.994    |    434.3     |   406.568    |   124.991    |   585.346    |\n",
      "|   499.706    |   532.291    |   398.284    |   633.796    |   542.259    |\n",
      "|    550.0     |    493.58    |   608.126    |   173.268    |   269.376    |\n",
      "|    550.54    |    562.41    |   593.674    |   649.282    |   679.852    |\n",
      "|    389.7     |   631.248    |   597.101    |    45.155    |   453.257    |\n",
      "|   525.348    |   492.276    |   572.826    |   562.619    |   554.473    |\n",
      "|   522.163    |   591.453    |    563.75    |   555.172    |   557.697    |\n",
      "|   500.198    |   658.276    |   623.326    |     nan      |   615.643    |\n",
      "|   531.916    |   523.295    |   552.906    |     nan      |   623.679    |\n",
      "|   603.464    |   366.575    |     nan      |     nan      |     nan      |\n",
      "|   633.839    |   659.445    |     nan      |     nan      |     nan      |\n",
      "|   611.398    |   570.488    |     nan      |     nan      |     nan      |\n",
      "|    609.48    |   625.534    |     nan      |     nan      |     nan      |\n",
      "|   560.425    |   586.738    |     nan      |     nan      |     nan      |\n",
      "|   594.814    |   528.071    |     nan      |     nan      |     nan      |\n",
      "|   590.739    |   402.064    |     nan      |     nan      |     nan      |\n",
      "|   451.523    |   489.965    |     nan      |     nan      |     nan      |\n",
      "|   463.642    |   528.342    |     nan      |     nan      |     nan      |\n",
      "|   367.655    |   435.968    |     nan      |     nan      |     nan      |\n",
      "|   598.855    |   538.215    |     nan      |     nan      |     nan      |\n",
      "|   612.087    |    388.37    |     nan      |     nan      |     nan      |\n",
      "|   574.496    |   547.872    |     nan      |     nan      |     nan      |\n",
      "|   616.495    |   499.827    |     nan      |     nan      |     nan      |\n",
      "|   479.926    |    677.75    |     nan      |     nan      |     nan      |\n",
      "|   588.892    |   589.084    |     nan      |     nan      |     nan      |\n",
      "|     nan      |   479.402    |     nan      |     nan      |     nan      |\n",
      "|     nan      |   435.776    |     nan      |     nan      |     nan      |\n",
      "|     nan      |   206.981    |     nan      |     nan      |     nan      |\n",
      "|     nan      |   407.986    |     nan      |     nan      |     nan      |\n",
      "+--------------+--------------+--------------+--------------+--------------+\n"
     ]
    }
   ],
   "source": [
    "path = os.getcwd() + \"\\\\data\"\n",
    "start = time.time()\n",
    "csvFile = path + \"\\\\NMttest.csv\"\n",
    "with open(csvFile) as fp:\n",
    "    reader = csv.DictReader(fp)\n",
    "    data = {}\n",
    "    for row in reader:\n",
    "        for header, value in row.items():\n",
    "            try:\n",
    "                data[header].append(value)\n",
    "            except KeyError:\n",
    "                data[header] = [value]\n",
    "    for key, value in data.items():\n",
    "        data[key] = list(filter(None, data[key]))\n",
    "        data[key] = list(map(lambda x: float(x), data[key]))\n",
    "    #print(\"Time to read file ->\", round(time.time() - start, 3), \"seconds.\\n\")\n",
    "    t = PrettyTable(data.keys())\n",
    "    df = pd.DataFrame.from_dict(data, orient='index').transpose()\n",
    "    for index, row in df.iterrows():\n",
    "        t.add_row(row)\n",
    "    print(t)"
   ]
  },
  {
   "cell_type": "markdown",
   "metadata": {
    "variables": {
     "len(data.keys())": "5"
    }
   },
   "source": [
    "This is a dataset of {{len(data.keys())}} independent numeric variables. They indicate the number of packages manufactured by each manufacturing shift for different number of days. So, `shiftClass31` indicates the number of packages produced by the morning shift on line 3. Each sample has a different number of entries and that is taken into account while performing the t-test."
   ]
  },
  {
   "cell_type": "markdown",
   "metadata": {},
   "source": [
    "### Finding pairwise combinations for 2 sample t-tests"
   ]
  },
  {
   "cell_type": "markdown",
   "metadata": {
    "variables": {
     "len(data.keys())": "5"
    }
   },
   "source": [
    "The t-test can only be performed on 2 samples at a time. Since we are looking for the **significance relationship** between any pair of shifts, we will perform the t-test on each possible combination of the shifts. A combination is a selection of items from a collection, such that the order of selection does not matter. We can find a $k$-combination of a set $S$ as a subset of $k$ distinct elements of $S$. If the set has $n$ elements, the number of $k$-combinations is equal to $$\\frac{n!}{k!(n-k)!}$$\n",
    "<br>\n",
    "In the case of a t-test, that resolves to $$\\frac{p!}{2*(p-2)!}$$\n",
    "<br>\n",
    "where\n",
    "<br>\n",
    "$p =$ **Number of parameters**. In this case $p =$ {{len(data.keys())}}. Therefore, we can get the number of possible combinations as - $$\\frac{5!}{2*(5-2)!} = 10$$"
   ]
  },
  {
   "cell_type": "code",
   "execution_count": 3,
   "metadata": {
    "ExecuteTime": {
     "end_time": "2019-04-23T15:51:43.076000Z",
     "start_time": "2019-04-23T15:51:43.068000Z"
    }
   },
   "outputs": [
    {
     "name": "stdout",
     "output_type": "stream",
     "text": [
      "+--------------+--------------+\n",
      "|   sample1    |   sample2    |\n",
      "+--------------+--------------+\n",
      "| shiftClass21 | shiftClass22 |\n",
      "| shiftClass21 | shiftClass23 |\n",
      "| shiftClass21 | shiftClass31 |\n",
      "| shiftClass21 | shiftClass32 |\n",
      "| shiftClass22 | shiftClass23 |\n",
      "| shiftClass22 | shiftClass31 |\n",
      "| shiftClass22 | shiftClass32 |\n",
      "| shiftClass23 | shiftClass31 |\n",
      "| shiftClass23 | shiftClass32 |\n",
      "| shiftClass31 | shiftClass32 |\n",
      "+--------------+--------------+\n"
     ]
    }
   ],
   "source": [
    "featureCombos = (list(combinations(data.keys(),2)))\n",
    "t2 = PrettyTable(['sample1', 'sample2'])\n",
    "for elem in featureCombos:\n",
    "    t2.add_row(elem)\n",
    "print(t2)"
   ]
  },
  {
   "cell_type": "markdown",
   "metadata": {
    "variables": {
     "len(featureCombos)": "10"
    }
   },
   "source": [
    "As we can see above, we have found the {{len(featureCombos)}} different combinations between the features/parameters. We can now proceed on to performing the t-test between the 2 samples and evaluating if they have a **significance relationship**."
   ]
  },
  {
   "cell_type": "markdown",
   "metadata": {
    "variables": {
     "featureCombos[2][0]": "shiftClass21",
     "featureCombos[2][1]": "shiftClass31"
    }
   },
   "source": [
    "### Visualizing the data\n",
    "\n",
    "Let us visualize one of these pairs of data say `{{featureCombos[2][0]}}` and `{{featureCombos[2][1]}}`"
   ]
  },
  {
   "cell_type": "code",
   "execution_count": 4,
   "metadata": {
    "ExecuteTime": {
     "end_time": "2019-04-23T15:51:43.345000Z",
     "start_time": "2019-04-23T15:51:43.330000Z"
    }
   },
   "outputs": [
    {
     "data": {
      "text/html": [
       "<div>\n",
       "<style scoped>\n",
       "    .dataframe tbody tr th:only-of-type {\n",
       "        vertical-align: middle;\n",
       "    }\n",
       "\n",
       "    .dataframe tbody tr th {\n",
       "        vertical-align: top;\n",
       "    }\n",
       "\n",
       "    .dataframe thead th {\n",
       "        text-align: right;\n",
       "    }\n",
       "</style>\n",
       "<table border=\"1\" class=\"dataframe\">\n",
       "  <thead>\n",
       "    <tr style=\"text-align: right;\">\n",
       "      <th></th>\n",
       "      <th>shiftClass31</th>\n",
       "      <th>shiftClass21</th>\n",
       "    </tr>\n",
       "  </thead>\n",
       "  <tbody>\n",
       "    <tr>\n",
       "      <th>0</th>\n",
       "      <td>109.126</td>\n",
       "      <td>524.996</td>\n",
       "    </tr>\n",
       "    <tr>\n",
       "      <th>1</th>\n",
       "      <td>446.973</td>\n",
       "      <td>587.324</td>\n",
       "    </tr>\n",
       "    <tr>\n",
       "      <th>2</th>\n",
       "      <td>79.898</td>\n",
       "      <td>630.496</td>\n",
       "    </tr>\n",
       "    <tr>\n",
       "      <th>3</th>\n",
       "      <td>542.809</td>\n",
       "      <td>539.347</td>\n",
       "    </tr>\n",
       "    <tr>\n",
       "      <th>4</th>\n",
       "      <td>531.114</td>\n",
       "      <td>500.332</td>\n",
       "    </tr>\n",
       "  </tbody>\n",
       "</table>\n",
       "</div>"
      ],
      "text/plain": [
       "   shiftClass31  shiftClass21\n",
       "0       109.126       524.996\n",
       "1       446.973       587.324\n",
       "2        79.898       630.496\n",
       "3       542.809       539.347\n",
       "4       531.114       500.332"
      ]
     },
     "execution_count": 4,
     "metadata": {},
     "output_type": "execute_result"
    }
   ],
   "source": [
    "sn.set_style(\"ticks\")\n",
    "df[['shiftClass31','shiftClass21']].head()"
   ]
  },
  {
   "cell_type": "code",
   "execution_count": 5,
   "metadata": {
    "ExecuteTime": {
     "end_time": "2019-04-23T15:51:43.848000Z",
     "start_time": "2019-04-23T15:51:43.349000Z"
    }
   },
   "outputs": [
    {
     "data": {
      "image/png": "[encoded data removed]",
      "text/plain": [
       "<Figure size 1280x800 with 1 Axes>"
      ]
     },
     "metadata": {},
     "output_type": "display_data"
    }
   ],
   "source": [
    "plt.figure(figsize=(16, 10), dpi= 80, facecolor='w', edgecolor='k')\n",
    "sn.distplot(df['shiftClass31'].dropna(), hist=False, rug=True)\n",
    "sn.distplot(df['shiftClass21'].dropna(), hist=False, rug=True)\n",
    "plt.show()"
   ]
  },
  {
   "cell_type": "markdown",
   "metadata": {
    "variables": {
     "featureCombos[2][0]": "shiftClass21",
     "featureCombos[2][1]": "shiftClass31"
    }
   },
   "source": [
    "This is a kernel density plot between `{{featureCombos[2][0]}}` and `{{featureCombos[2][1]}}`. Taking a look at the plot, it seems that the two variables have very different value ranges."
   ]
  },
  {
   "cell_type": "code",
   "execution_count": 6,
   "metadata": {
    "ExecuteTime": {
     "end_time": "2019-04-23T15:51:44.170000Z",
     "start_time": "2019-04-23T15:51:43.873000Z"
    }
   },
   "outputs": [
    {
     "data": {
      "image/png": "[encoded data removed]",
      "text/plain": [
       "<Figure size 1280x800 with 1 Axes>"
      ]
     },
     "metadata": {},
     "output_type": "display_data"
    }
   ],
   "source": [
    "plt.figure(figsize=(16, 10), dpi= 80, facecolor='w', edgecolor='k')\n",
    "df.boxplot(column=['shiftClass31', 'shiftClass21'])\n",
    "plt.show()"
   ]
  },
  {
   "cell_type": "code",
   "execution_count": 7,
   "metadata": {
    "ExecuteTime": {
     "end_time": "2019-04-23T15:51:44.184000Z",
     "start_time": "2019-04-23T15:51:44.174000Z"
    }
   },
   "outputs": [
    {
     "name": "stdout",
     "output_type": "stream",
     "text": [
      "    shiftClass21\n",
      "0        524.996\n",
      "1        587.324\n",
      "2        630.496\n",
      "3        539.347\n",
      "4        500.332\n",
      "5        283.492\n",
      "6        372.994\n",
      "7        552.625\n",
      "8        534.994\n",
      "9        499.706\n",
      "10       550.000\n",
      "11       550.540\n",
      "12       389.700\n",
      "13       525.348\n",
      "14       522.163\n",
      "15       500.198\n",
      "16       531.916\n",
      "17       603.464\n",
      "18       633.839\n",
      "19       611.398\n",
      "20       609.480\n",
      "21       560.425\n",
      "22       594.814\n",
      "23       590.739\n",
      "24       451.523\n",
      "25       463.642\n",
      "26       367.655\n",
      "27       598.855\n",
      "28       612.087\n",
      "29       574.496\n",
      "30       616.495\n",
      "31       479.926\n",
      "32       588.892\n",
      "33           NaN\n",
      "34           NaN\n",
      "35           NaN\n",
      "36           NaN\n"
     ]
    }
   ],
   "source": [
    "if 'shiftClass21' in df.columns:\n",
    "    print(df[['shiftClass21']])"
   ]
  },
  {
   "cell_type": "markdown",
   "metadata": {},
   "source": [
    "### Calculating the T - Value"
   ]
  },
  {
   "cell_type": "markdown",
   "metadata": {
    "variables": {
     "featureCombos[2][0]": "shiftClass21",
     "featureCombos[2][1]": "shiftClass31"
    }
   },
   "source": [
    "Let us consider the numerical vectors `{{featureCombos[2][0]}}` and `{{featureCombos[2][1]}}`. We can calculate the T-Value for this pair in the following way."
   ]
  },
  {
   "cell_type": "markdown",
   "metadata": {
    "variables": {
     "featureCombos[2][0]": "shiftClass21",
     "featureCombos[2][1]": "shiftClass31"
    }
   },
   "source": [
    "#### Step 1. Sum the two groups\n",
    "\n",
    "Let - <br>$A = $ `{{featureCombos[2][1]}}`<br> $B = $ `{{featureCombos[2][0]}}`\n",
    "\n",
    "$$sum(A) = \\sum_{i=1}^{N_A} A $$\n",
    "\n",
    "$$sum(B) = \\sum_{i=1}^{N_B} B $$"
   ]
  },
  {
   "cell_type": "code",
   "execution_count": 8,
   "metadata": {
    "ExecuteTime": {
     "end_time": "2019-04-23T15:51:44.237000Z",
     "start_time": "2019-04-23T15:51:44.225000Z"
    }
   },
   "outputs": [
    {
     "name": "stdout",
     "output_type": "stream",
     "text": [
      "sum(A)\t:\t 5912.932999999999\n",
      "sum(B)\t:\t 17553.900999999994\n"
     ]
    }
   ],
   "source": [
    "A = featureCombos[2][1]\n",
    "B = featureCombos[2][0]\n",
    "sumA = sum(df[[A]].dropna().values)[0]\n",
    "sumB = sum(df[[B]].dropna().values)[0]\n",
    "print(\"sum(A)\\t:\\t\", sumA)\n",
    "print(\"sum(B)\\t:\\t\", sumB)"
   ]
  },
  {
   "cell_type": "markdown",
   "metadata": {},
   "source": [
    "#### Step 2. Square the sums of the two groups\n",
    "\n",
    "$$sumSq(A) = (\\sum_{i=1}^{N_A} A)^2 $$\n",
    "\n",
    "$$sumSq(B) = (\\sum_{i=1}^{N_B} B)^2 $$"
   ]
  },
  {
   "cell_type": "code",
   "execution_count": 9,
   "metadata": {
    "ExecuteTime": {
     "end_time": "2019-04-23T15:51:44.249000Z",
     "start_time": "2019-04-23T15:51:44.242000Z"
    }
   },
   "outputs": [
    {
     "name": "stdout",
     "output_type": "stream",
     "text": [
      "sumSq(A)\t:\t 34962776.66248899\n",
      "sumSq(B)\t:\t 308139440.3178008\n"
     ]
    }
   ],
   "source": [
    "sumAsq = sumA ** 2\n",
    "sumBsq = sumB ** 2\n",
    "print(\"sumSq(A)\\t:\\t\", sumAsq)\n",
    "print(\"sumSq(B)\\t:\\t\", sumBsq)"
   ]
  },
  {
   "cell_type": "markdown",
   "metadata": {},
   "source": [
    "#### Step 3. Calculate the means of the two groups\n",
    "\n",
    "$$\\mu(A) = \\dfrac {\\sum ^{N_A}_{i=1}A}{N_A} $$\n",
    "\n",
    "$$\\mu(B) = \\dfrac {\\sum ^{N_B}_{i=1}B}{N_B} $$"
   ]
  },
  {
   "cell_type": "code",
   "execution_count": 10,
   "metadata": {
    "ExecuteTime": {
     "end_time": "2019-04-23T15:51:44.371000Z",
     "start_time": "2019-04-23T15:51:44.361000Z"
    }
   },
   "outputs": [
    {
     "name": "stdout",
     "output_type": "stream",
     "text": [
      "mean(A)\t:\t 394.1955333333333\n",
      "mean(B)\t:\t 531.9363939393937\n"
     ]
    }
   ],
   "source": [
    "avgA = sumA/len(df[[A]].dropna().values)\n",
    "avgB = sumB/len(df[[B]].dropna().values)\n",
    "print(\"mean(A)\\t:\\t\", avgA)\n",
    "print(\"mean(B)\\t:\\t\", avgB)"
   ]
  },
  {
   "cell_type": "markdown",
   "metadata": {},
   "source": [
    "#### Step 4. Sum the squares of each instance\n",
    "\n",
    "$$ssq(A) = \\sum_{i=1}^{N_A} A_{i}^2 $$\n",
    "\n",
    "$$ssq(B) = \\sum_{i=1}^{N_B} B_{i}^2 $$"
   ]
  },
  {
   "cell_type": "code",
   "execution_count": 11,
   "metadata": {
    "ExecuteTime": {
     "end_time": "2019-04-23T15:51:44.496000Z",
     "start_time": "2019-04-23T15:51:44.483000Z"
    }
   },
   "outputs": [
    {
     "name": "stdout",
     "output_type": "stream",
     "text": [
      "ssq(A)\t:\t 3143360.3548949994\n",
      "ssq(B)\t:\t 9561937.775227001\n"
     ]
    }
   ],
   "source": [
    "ssqA = sum(map(lambda x: x ** 2, df[[A]].dropna().values))\n",
    "ssqB = sum(map(lambda x: x ** 2, df[[B]].dropna().values))\n",
    "print(\"ssq(A)\\t:\\t\", ssqA[0])\n",
    "print(\"ssq(B)\\t:\\t\", ssqB[0])"
   ]
  },
  {
   "cell_type": "markdown",
   "metadata": {},
   "source": [
    "#### Step 4. Find the Degrees of Freedom\n",
    "\n",
    "$$DF = N_A + N_B - 2$$"
   ]
  },
  {
   "cell_type": "code",
   "execution_count": 12,
   "metadata": {
    "ExecuteTime": {
     "end_time": "2019-04-23T15:51:44.613000Z",
     "start_time": "2019-04-23T15:51:44.603000Z"
    }
   },
   "outputs": [
    {
     "name": "stdout",
     "output_type": "stream",
     "text": [
      "Degrees of Freedom\t:\t 46\n"
     ]
    }
   ],
   "source": [
    "degreesFreedom = len(df[[A]].dropna().values) + len(df[[B]].dropna().values) - 2\n",
    "print(\"Degrees of Freedom\\t:\\t\", degreesFreedom)"
   ]
  },
  {
   "cell_type": "markdown",
   "metadata": {},
   "source": [
    "#### Step 5. Plug in the pre-calculated values to find the T-Value\n",
    "\n",
    "$$ t = \\dfrac{\\mu_A - \\mu_B}{\\sqrt{\\dfrac{(ssq(A) - \\dfrac{sumSq(A)}{N_A}) + (ssq(B) - \\dfrac{sumSq(B)}{N_B})}{DF}.(\\dfrac{1}{N_A} + \\dfrac{1}{N_B}) }} $$"
   ]
  },
  {
   "cell_type": "code",
   "execution_count": 13,
   "metadata": {
    "ExecuteTime": {
     "end_time": "2019-04-23T15:51:44.735000Z",
     "start_time": "2019-04-23T15:51:44.720000Z"
    }
   },
   "outputs": [
    {
     "name": "stdout",
     "output_type": "stream",
     "text": [
      "T-Value\t:\t -2.946170371952825\n"
     ]
    }
   ],
   "source": [
    "t = (avgA - avgB)/math.sqrt((((ssqA[0] - sumAsq/len(df[[A]].dropna().values))+(ssqB[0] - sumBsq/len(df[[B]].dropna().values)))/degreesFreedom)*(1.0/len(df[[A]].dropna().values)+1.0/len(df[[B]].dropna().values)))\n",
    "print(\"T-Value\\t:\\t\", t)"
   ]
  },
  {
   "cell_type": "markdown",
   "metadata": {},
   "source": [
    "### Calculating the P - Value"
   ]
  },
  {
   "cell_type": "code",
   "execution_count": 14,
   "metadata": {
    "ExecuteTime": {
     "end_time": "2019-04-23T15:51:44.840000Z",
     "start_time": "2019-04-23T15:51:44.834000Z"
    }
   },
   "outputs": [
    {
     "name": "stdout",
     "output_type": "stream",
     "text": [
      "p-Value\t:\t 0.005035546387882809\n"
     ]
    }
   ],
   "source": [
    "pval = stats.t.sf(abs(t), degreesFreedom) * 2\n",
    "print(\"p-Value\\t:\\t\", pval)"
   ]
  },
  {
   "cell_type": "markdown",
   "metadata": {
    "variables": {
     "degreesFreedom": "46",
     "featureCombos[2][0]": "shiftClass21",
     "featureCombos[2][1]": "shiftClass31",
     "round(pval, 4)": "0.005",
     "round(t, 4)": "-2.9462"
    }
   },
   "source": [
    "Therefore, we can see that for `{{featureCombos[2][1]}}` and `{{featureCombos[2][0]}}` - \n",
    "  * Degrees of Freedom $ = $ `{{degreesFreedom}}`\n",
    "  * t-value $ = $ `{{round(t, 4)}}`\n",
    "  * p-value $ = $ `{{round(pval, 4)}}`\n",
    "  * $\\alpha = $ `0.05`\n",
    "  \n",
    "Now, given that our calculated p-value is $ < \\alpha$, we can safely conclude that the means of `{{featureCombos[2][1]}}` and `{{featureCombos[2][0]}}` are **significantly** different from one another."
   ]
  },
  {
   "cell_type": "code",
   "execution_count": 15,
   "metadata": {
    "ExecuteTime": {
     "end_time": "2019-04-23T15:51:44.995000Z",
     "start_time": "2019-04-23T15:51:44.986000Z"
    }
   },
   "outputs": [
    {
     "name": "stdout",
     "output_type": "stream",
     "text": [
      "+--------------+--------------+---------+-----------------+---------+-------------+\n",
      "|   sample1    |   sample2    | t_value | degrees_freedom | p_value | significant |\n",
      "+--------------+--------------+---------+-----------------+---------+-------------+\n",
      "| shiftClass31 | shiftClass21 | -2.9462 |        46       |  0.005  |      1      |\n",
      "+--------------+--------------+---------+-----------------+---------+-------------+\n"
     ]
    }
   ],
   "source": [
    "sigFlag = 0\n",
    "if(pval < 0.05):\n",
    "    sigFlag = 1\n",
    "t2 = PrettyTable(['sample1', 'sample2', 't_value', 'degrees_freedom', 'p_value', 'significant'])\n",
    "r = [featureCombos[2][1], featureCombos[2][0], round(t, 4), degreesFreedom, round(pval, 4), sigFlag]\n",
    "t2.add_row(r)\n",
    "print(t2)"
   ]
  },
  {
   "cell_type": "markdown",
   "metadata": {},
   "source": [
    "### Pairwise 2-sample t-tests"
   ]
  },
  {
   "cell_type": "markdown",
   "metadata": {},
   "source": [
    "We can now run a general script that calculates the pairwise p-values for each combination of features."
   ]
  },
  {
   "cell_type": "code",
   "execution_count": 19,
   "metadata": {
    "ExecuteTime": {
     "end_time": "2019-04-23T15:58:26.352000Z",
     "start_time": "2019-04-23T15:58:26.332000Z"
    }
   },
   "outputs": [],
   "source": [
    "def ttest(combo, a, b):\n",
    "    sigFlag = 0\n",
    "    \n",
    "#    print(\"Combo of\", combo[0], \"and\", combo[1])\n",
    "    sumA = float(sum(a))\n",
    "    sumB = float(sum(b))\n",
    "    \n",
    "    sumAsq = sumA ** 2\n",
    "    sumBsq = sumB ** 2\n",
    "\n",
    "    avgA = sumA/len(a)\n",
    "    avgB = sumB/len(b)\n",
    "\n",
    "    ssqA = sum(map(lambda x: x ** 2, a))\n",
    "#     print(ssqA)\n",
    "    ssqB = sum(map(lambda x: x ** 2, b))\n",
    "    degreesFreedom = len(a) + len(b) - 2\n",
    "\n",
    "    t = (avgA - avgB)/math.sqrt((((ssqA - sumAsq/len(a))+(ssqB - sumBsq/len(b)))/degreesFreedom)*(1.0/len(a)+1.0/len(b)))\n",
    "#     print(\"T value ->\", t)\n",
    "\n",
    "    pval = stats.t.sf(abs(t), degreesFreedom)*2\n",
    "#     print(\"2 Tailed P value ->\", pval)\n",
    "\n",
    "    if(pval < 0.05):\n",
    "        sigFlag = 1\n",
    "    res = [combo[0], combo[1], round(t, 5), degreesFreedom, round(pval, 6), sigFlag]\n",
    "    return res"
   ]
  },
  {
   "cell_type": "code",
   "execution_count": 20,
   "metadata": {
    "ExecuteTime": {
     "end_time": "2019-04-23T15:58:28.681000Z",
     "start_time": "2019-04-23T15:58:28.652000Z"
    }
   },
   "outputs": [
    {
     "name": "stdout",
     "output_type": "stream",
     "text": [
      "+--------------+--------------+----------+-----------------+----------+-------------+\n",
      "|   sample1    |   sample2    | t_value  | degrees_freedom | p_value  | significant |\n",
      "+--------------+--------------+----------+-----------------+----------+-------------+\n",
      "| shiftClass21 | shiftClass22 | 0.82611  |        68       | 0.411633 |      0      |\n",
      "| shiftClass21 | shiftClass23 | -0.19873 |        48       | 0.843311 |      0      |\n",
      "| shiftClass21 | shiftClass31 | 2.94617  |        46       | 0.005036 |      1      |\n",
      "| shiftClass21 | shiftClass32 | -0.4723  |        48       | 0.638854 |      0      |\n",
      "| shiftClass22 | shiftClass23 | -0.83465 |        52       | 0.407732 |      0      |\n",
      "| shiftClass22 | shiftClass31 | 2.50554  |        50       | 0.015528 |      1      |\n",
      "| shiftClass22 | shiftClass32 | -1.03299 |        52       | 0.306388 |      0      |\n",
      "| shiftClass23 | shiftClass31 |  2.3126  |        30       | 0.027787 |      1      |\n",
      "| shiftClass23 | shiftClass32 | -0.25407 |        32       | 0.801066 |      0      |\n",
      "| shiftClass31 | shiftClass32 | -2.33433 |        30       | 0.026464 |      1      |\n",
      "+--------------+--------------+----------+-----------------+----------+-------------+\n"
     ]
    }
   ],
   "source": [
    "t2 = PrettyTable(['sample1', 'sample2', 't_value', 'degrees_freedom', 'p_value', 'significant'])\n",
    "for elem in featureCombos:\n",
    "    sampleA = df[elem[0]].dropna().tolist()\n",
    "    sampleB = df[elem[1]].dropna().tolist()\n",
    "    result = ttest(elem, sampleA, sampleB)\n",
    "    t2.add_row(result)\n",
    "print(t2)"
   ]
  }
 ],
 "metadata": {
  "kernelspec": {
   "display_name": "Python 3",
   "language": "python",
   "name": "python3"
  },
  "language_info": {
   "codemirror_mode": {
    "name": "ipython",
    "version": 3
   },
   "file_extension": ".py",
   "mimetype": "text/x-python",
   "name": "python",
   "nbconvert_exporter": "python",
   "pygments_lexer": "ipython3",
   "version": "3.7.4"
  },
  "toc": {
   "base_numbering": 1,
   "nav_menu": {},
   "number_sections": true,
   "sideBar": true,
   "skip_h1_title": false,
   "title_cell": "Table of Contents",
   "title_sidebar": "Contents",
   "toc_cell": false,
   "toc_position": {},
   "toc_section_display": true,
   "toc_window_display": false
  }
 },
 "nbformat": 4,
 "nbformat_minor": 2
}

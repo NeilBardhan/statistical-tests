{
 "cells": [
  {
   "cell_type": "markdown",
   "metadata": {},
   "source": [
    "# T Tests on Independent Samples\n",
    "\n",
    "The **T Test** (also called **Student’s T Test**) compares two averages (means | $\\mu$) and tells us if they are different from each other. The t test also tells us how **significant** the differences are. In other words it lets us know if those differences could have occurred by chance.\n",
    "\n",
    "<span style=\"color : \t#076f00\">\n",
    "A drug company may want to test a new cancer drug to find out if it improves life expectancy. In an experiment, there’s always a control group (a group who are given a placebo). The control group may see an average increased life expectancy of 5 years, while the group taking the new drug might witness an average increase in life expectancy of 6 years. This might indicate that the drug is effective, however that could be down to unique attributes in the sample. To test the efficacy of the drug for the entire population, researchers would have to use a Student’s t test to find out if the results are statistically significant over the whole population.\n",
    "</span>\n",
    "\n",
    "### T score\n",
    "The <span style = \"color : red\">**T score**</span> or **T value** is a **ratio** between the **difference between two groups** and the **difference within the two groups**.\n",
    "\n",
    "- **large** t-score $\\implies$ groups are **different**.\n",
    "- **small** t-score $\\implies$ groups are **similar**.\n",
    "    \n",
    "When we run a t test, the bigger the t value, the more likely it is that the results will be reproducable across the population. That raises the question **how big is big enough?** Every t-value has a <span style = \"color : red\">**p-value**</span> to go with it. A p-value is the <span style = \"color : red\"> **probability** that the results from your sample data occurred by chance</span>. P-values range from 0% to 100%.<span style=\"color : \t#076f00\"> a p value of 5% is 0.05</span>. Low p-values are good; They indicate that our data did not occur by chance. <span style=\"color : \t#076f00\"> a p-value of .01 means there is only a 1% probability that the results from an experiment happened by chance</span>. In most cases, a p-value of 0.05 (5%) is accepted to mean that the data is valid. This threshold (0.05 or 0.1) is called the <span style = \"color : red\"> significance level</span> and is denoted by <span style = \"color : red\">$\\alpha$</span>. $\\alpha$ can be 0.05 or 0.1.\n",
    "\n",
    "### T Test variations\n",
    "\n",
    "There are three variations of the t-test:\n",
    "\n",
    "- An <span style = \"color : red\">**Independent samples** t-test</span> compares the means for two groups.\n",
    "- A <span style = \"color : red\">**Paired sample** t-test</span> compares means from the same group at different times (say, one year apart).\n",
    "- A <span style = \"color : red\">**One sample** t-test</span> compares the mean of a single group against a known mean.\n",
    "\n",
    "## Independent Samples T Test\n",
    "\n",
    "The <span style = \"color : red\">**Independent samples** t-test</span> helps us to compare the means of two sets of data. We could run a t test to see if <span style = \"color : #076f00\"> the average test scores of males and females are different</span> and the Independent Samples T Test helps answer whether these differences could have occurred by random chance."
   ]
  },
  {
   "cell_type": "markdown",
   "metadata": {},
   "source": [
    "### Loading libraries and dataset"
   ]
  },
  {
   "cell_type": "code",
   "execution_count": 1,
   "metadata": {
    "collapsed": true
   },
   "outputs": [],
   "source": [
    "import math\n",
    "import csv\n",
    "import time\n",
    "import seaborn as sn\n",
    "from scipy import stats\n",
    "import pandas as pd\n",
    "from itertools import combinations\n",
    "from prettytable import PrettyTable\n",
    "import matplotlib.pyplot as plt\n",
    "import numpy as np"
   ]
  },
  {
   "cell_type": "code",
   "execution_count": 2,
   "metadata": {},
   "outputs": [
    {
     "name": "stdout",
     "output_type": "stream",
     "text": [
      "+--------------+--------------+--------------+--------------+--------------+\n",
      "| shiftClass31 | shiftClass32 | shiftClass22 | shiftClass23 | shiftClass21 |\n",
      "+--------------+--------------+--------------+--------------+--------------+\n",
      "|   109.126    |   487.797    |   653.745    |   590.035    |   524.996    |\n",
      "|   446.973    |   697.996    |   346.847    |   506.485    |   587.324    |\n",
      "|    79.898    |   511.413    |   516.717    |   375.336    |   630.496    |\n",
      "|   542.809    |   517.957    |   332.523    |   586.754    |   539.347    |\n",
      "|   531.114    |   379.899    |   532.259    |   580.948    |   500.332    |\n",
      "|   597.148    |   601.309    |   541.533    |   539.804    |   283.492    |\n",
      "|   180.683    |   644.818    |    600.35    |   554.802    |   372.994    |\n",
      "|   680.899    |   541.401    |   578.415    |   474.639    |   552.625    |\n",
      "|   124.991    |   585.346    |    434.3     |   406.568    |   534.994    |\n",
      "|   633.796    |   542.259    |   532.291    |   398.284    |   499.706    |\n",
      "|   173.268    |   269.376    |    493.58    |   608.126    |    550.0     |\n",
      "|   649.282    |   679.852    |    562.41    |   593.674    |    550.54    |\n",
      "|    45.155    |   453.257    |   631.248    |   597.101    |    389.7     |\n",
      "|   562.619    |   554.473    |   492.276    |   572.826    |   525.348    |\n",
      "|   555.172    |   557.697    |   591.453    |    563.75    |   522.163    |\n",
      "|     nan      |   615.643    |   658.276    |   623.326    |   500.198    |\n",
      "|     nan      |   623.679    |   523.295    |   552.906    |   531.916    |\n",
      "|     nan      |     nan      |   366.575    |     nan      |   603.464    |\n",
      "|     nan      |     nan      |   659.445    |     nan      |   633.839    |\n",
      "|     nan      |     nan      |   570.488    |     nan      |   611.398    |\n",
      "|     nan      |     nan      |   625.534    |     nan      |    609.48    |\n",
      "|     nan      |     nan      |   586.738    |     nan      |   560.425    |\n",
      "|     nan      |     nan      |   528.071    |     nan      |   594.814    |\n",
      "|     nan      |     nan      |   402.064    |     nan      |   590.739    |\n",
      "|     nan      |     nan      |   489.965    |     nan      |   451.523    |\n",
      "|     nan      |     nan      |   528.342    |     nan      |   463.642    |\n",
      "|     nan      |     nan      |   435.968    |     nan      |   367.655    |\n",
      "|     nan      |     nan      |   538.215    |     nan      |   598.855    |\n",
      "|     nan      |     nan      |    388.37    |     nan      |   612.087    |\n",
      "|     nan      |     nan      |   547.872    |     nan      |   574.496    |\n",
      "|     nan      |     nan      |   499.827    |     nan      |   616.495    |\n",
      "|     nan      |     nan      |    677.75    |     nan      |   479.926    |\n",
      "|     nan      |     nan      |   589.084    |     nan      |   588.892    |\n",
      "|     nan      |     nan      |   479.402    |     nan      |     nan      |\n",
      "|     nan      |     nan      |   435.776    |     nan      |     nan      |\n",
      "|     nan      |     nan      |   206.981    |     nan      |     nan      |\n",
      "|     nan      |     nan      |   407.986    |     nan      |     nan      |\n",
      "+--------------+--------------+--------------+--------------+--------------+\n"
     ]
    }
   ],
   "source": [
    "path = \"C:\\\\Users\\\\Neil Bardhan\\\\Desktop\\\\t test\"\n",
    "start = time.time()\n",
    "csvFile = path + \"\\\\NMttest.csv\"\n",
    "with open(csvFile) as fp:\n",
    "    reader = csv.DictReader(fp)\n",
    "    data = {}\n",
    "    for row in reader:\n",
    "        for header, value in row.items():\n",
    "            try:\n",
    "                data[header].append(value)\n",
    "            except KeyError:\n",
    "                data[header] = [value]\n",
    "    for key, value in data.items():\n",
    "        data[key] = list(filter(None, data[key]))\n",
    "        data[key] = list(map(lambda x: float(x), data[key]))\n",
    "    #print(\"Time to read file ->\", round(time.time() - start, 3), \"seconds.\\n\")\n",
    "    t = PrettyTable(data.keys())\n",
    "    df = pd.DataFrame.from_dict(data, orient='index').transpose()\n",
    "    for index, row in df.iterrows():\n",
    "        t.add_row(row)\n",
    "    print(t)"
   ]
  },
  {
   "cell_type": "markdown",
   "metadata": {
    "variables": {
     "len(data.keys())": "5"
    }
   },
   "source": [
    "This is a dataset of {{len(data.keys())}} independent numeric variables. They indicate the number of cars produced by each auto manufacturing shift for different number of days. So, `shiftClass31` indicates the number of cars produced by the morning shift on line 3. Each sample has a different number of entries and that is taken into account while performing the t-test."
   ]
  },
  {
   "cell_type": "markdown",
   "metadata": {},
   "source": [
    "### Finding pairwise combinations for 2 sample t-tests"
   ]
  },
  {
   "cell_type": "markdown",
   "metadata": {
    "variables": {
     "len(data.keys())": "5"
    }
   },
   "source": [
    "The t-test can only be performed on 2 samples at a time. Since we are looking for the **significance relationship** between any pair of shifts, we will perform the t-test on each possible combination of the shifts. <span style = \"color : red\"> A combination is a selection of items from a collection, such that the order of selection does not matter</span>. We can find a $k$-combination of a set $S$ as a subset of $k$ distinct elements of $S$. If the set has $n$ elements, the number of $k$-combinations is equal to $$\\frac{n!}{k!(n-k)!}$$\n",
    "<br>\n",
    "In the case of a t-test, that resolves to $$\\frac{p!}{2*(p-2)!}$$\n",
    "<br>\n",
    "where\n",
    "<br>\n",
    "$p =$ **Number of parameters**. In this case $p =$ {{len(data.keys())}}. Therefore, we can get the <span style = \"color : red\"> number of possible combinations </span> as - <span style = \"color : red\">$$\\frac{5!}{2*(5-2)!} = 10$$</span>"
   ]
  },
  {
   "cell_type": "code",
   "execution_count": 3,
   "metadata": {},
   "outputs": [
    {
     "name": "stdout",
     "output_type": "stream",
     "text": [
      "+--------------+--------------+\n",
      "|   sample1    |   sample2    |\n",
      "+--------------+--------------+\n",
      "| shiftClass31 | shiftClass32 |\n",
      "| shiftClass31 | shiftClass22 |\n",
      "| shiftClass31 | shiftClass23 |\n",
      "| shiftClass31 | shiftClass21 |\n",
      "| shiftClass32 | shiftClass22 |\n",
      "| shiftClass32 | shiftClass23 |\n",
      "| shiftClass32 | shiftClass21 |\n",
      "| shiftClass22 | shiftClass23 |\n",
      "| shiftClass22 | shiftClass21 |\n",
      "| shiftClass23 | shiftClass21 |\n",
      "+--------------+--------------+\n"
     ]
    }
   ],
   "source": [
    "featureCombos = (list(combinations(data.keys(),2)))\n",
    "t2 = PrettyTable(['sample1', 'sample2'])\n",
    "for elem in featureCombos:\n",
    "    t2.add_row(elem)\n",
    "print(t2)"
   ]
  },
  {
   "cell_type": "markdown",
   "metadata": {
    "variables": {
     "len(featureCombos)": "10"
    }
   },
   "source": [
    "As we can see above, we have found the {{len(featureCombos)}} different combinations between the features/parameters. We can now proceed on to performing the t-test between the 2 samples and evaluating if they have a **significance relationship**."
   ]
  },
  {
   "cell_type": "markdown",
   "metadata": {
    "variables": {
     "featureCombos[2][0]": "shiftClass31",
     "featureCombos[2][1]": "shiftClass23"
    }
   },
   "source": [
    "### Visualizing the data\n",
    "\n",
    "Let us visualize one of these pairs of data say `{{featureCombos[2][0]}}` and `{{featureCombos[2][1]}}`"
   ]
  },
  {
   "cell_type": "code",
   "execution_count": 4,
   "metadata": {},
   "outputs": [
    {
     "data": {
      "text/html": [
       "<div>\n",
       "<style>\n",
       "    .dataframe thead tr:only-child th {\n",
       "        text-align: right;\n",
       "    }\n",
       "\n",
       "    .dataframe thead th {\n",
       "        text-align: left;\n",
       "    }\n",
       "\n",
       "    .dataframe tbody tr th {\n",
       "        vertical-align: top;\n",
       "    }\n",
       "</style>\n",
       "<table border=\"1\" class=\"dataframe\">\n",
       "  <thead>\n",
       "    <tr style=\"text-align: right;\">\n",
       "      <th></th>\n",
       "      <th>shiftClass31</th>\n",
       "      <th>shiftClass23</th>\n",
       "    </tr>\n",
       "  </thead>\n",
       "  <tbody>\n",
       "    <tr>\n",
       "      <th>0</th>\n",
       "      <td>109.126</td>\n",
       "      <td>590.035</td>\n",
       "    </tr>\n",
       "    <tr>\n",
       "      <th>1</th>\n",
       "      <td>446.973</td>\n",
       "      <td>506.485</td>\n",
       "    </tr>\n",
       "    <tr>\n",
       "      <th>2</th>\n",
       "      <td>79.898</td>\n",
       "      <td>375.336</td>\n",
       "    </tr>\n",
       "    <tr>\n",
       "      <th>3</th>\n",
       "      <td>542.809</td>\n",
       "      <td>586.754</td>\n",
       "    </tr>\n",
       "    <tr>\n",
       "      <th>4</th>\n",
       "      <td>531.114</td>\n",
       "      <td>580.948</td>\n",
       "    </tr>\n",
       "  </tbody>\n",
       "</table>\n",
       "</div>"
      ],
      "text/plain": [
       "   shiftClass31  shiftClass23\n",
       "0       109.126       590.035\n",
       "1       446.973       506.485\n",
       "2        79.898       375.336\n",
       "3       542.809       586.754\n",
       "4       531.114       580.948"
      ]
     },
     "execution_count": 4,
     "metadata": {},
     "output_type": "execute_result"
    }
   ],
   "source": [
    "df[['shiftClass31','shiftClass23']].head()"
   ]
  },
  {
   "cell_type": "code",
   "execution_count": 5,
   "metadata": {},
   "outputs": [
    {
     "data": {
      "image/png": "[encoded data removed]",
      "text/plain": [
       "<matplotlib.figure.Figure at 0x20afbbe0>"
      ]
     },
     "metadata": {},
     "output_type": "display_data"
    }
   ],
   "source": [
    "#test_df = pd.read_csv('us_jp_cars.csv')\n",
    "plt.figure(figsize=(16, 10), dpi= 80, facecolor='w', edgecolor='k')\n",
    "#sn.set_style('whitegrid')\n",
    "#df['shiftClass31'].dropna().plot(kind = 'density')\n",
    "#df['shiftClass23'].dropna().plot(kind = 'density')\n",
    "sn.kdeplot(df['shiftClass31'].dropna(), shade=True)\n",
    "sn.kdeplot(df['shiftClass23'].dropna(), shade=True)\n",
    "#sn.kdeplot(test_df['us_mpg'].dropna(), shade=True)\n",
    "#sn.kdeplot(test_df['jp_mpg'].dropna(), shade=True)\n",
    "#sn.distplot(df['shiftClass31'].dropna(), hist=False, rug=True)\n",
    "#sn.distplot(df['shiftClass23'].dropna(), hist=False, rug=True)\n",
    "plt.show()"
   ]
  },
  {
   "cell_type": "markdown",
   "metadata": {
    "variables": {
     "featureCombos[2][0]": "shiftClass31",
     "featureCombos[2][1]": "shiftClass23"
    }
   },
   "source": [
    "This is a kernel density plot between `{{featureCombos[2][0]}}` and `{{featureCombos[2][1]}}`. Taking a look at the plot, it seems that the two variables have very different value ranges. "
   ]
  },
  {
   "cell_type": "code",
   "execution_count": 6,
   "metadata": {},
   "outputs": [
    {
     "data": {
      "image/png": "[encoded data removed]",
      "text/plain": [
       "<matplotlib.figure.Figure at 0x20cf5668>"
      ]
     },
     "metadata": {},
     "output_type": "display_data"
    }
   ],
   "source": [
    "plt.figure(figsize=(16, 10), dpi= 80, facecolor='w', edgecolor='k')\n",
    "df.boxplot(column=['shiftClass31', 'shiftClass23'])\n",
    "plt.show()\n",
    "#ax = sn.boxplot(df['shiftClass31'].dropna())"
   ]
  },
  {
   "cell_type": "code",
   "execution_count": 8,
   "metadata": {},
   "outputs": [
    {
     "name": "stdout",
     "output_type": "stream",
     "text": [
      "    shiftClass21\n",
      "0        524.996\n",
      "1        587.324\n",
      "2        630.496\n",
      "3        539.347\n",
      "4        500.332\n",
      "5        283.492\n",
      "6        372.994\n",
      "7        552.625\n",
      "8        534.994\n",
      "9        499.706\n",
      "10       550.000\n",
      "11       550.540\n",
      "12       389.700\n",
      "13       525.348\n",
      "14       522.163\n",
      "15       500.198\n",
      "16       531.916\n",
      "17       603.464\n",
      "18       633.839\n",
      "19       611.398\n",
      "20       609.480\n",
      "21       560.425\n",
      "22       594.814\n",
      "23       590.739\n",
      "24       451.523\n",
      "25       463.642\n",
      "26       367.655\n",
      "27       598.855\n",
      "28       612.087\n",
      "29       574.496\n",
      "30       616.495\n",
      "31       479.926\n",
      "32       588.892\n",
      "33           NaN\n",
      "34           NaN\n",
      "35           NaN\n",
      "36           NaN\n"
     ]
    }
   ],
   "source": [
    "if 'shiftClass21' in df.columns:\n",
    "    print df[['shiftClass21']]"
   ]
  }
 ],
 "metadata": {
  "kernelspec": {
   "display_name": "Python 2",
   "language": "python",
   "name": "python2"
  },
  "language_info": {
   "codemirror_mode": {
    "name": "ipython",
    "version": 2
   },
   "file_extension": ".py",
   "mimetype": "text/x-python",
   "name": "python",
   "nbconvert_exporter": "python",
   "pygments_lexer": "ipython2",
   "version": "2.7.13"
  }
 },
 "nbformat": 4,
 "nbformat_minor": 2
}
